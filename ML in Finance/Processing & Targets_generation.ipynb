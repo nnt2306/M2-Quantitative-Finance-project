{
 "cells": [
  {
   "cell_type": "markdown",
   "metadata": {},
   "source": [
    "#### Imports"
   ]
  },
  {
   "cell_type": "code",
   "execution_count": 1,
   "metadata": {},
   "outputs": [],
   "source": [
    "import numpy as np\n",
    "import pandas as pd\n",
    "import polars as pl\n",
    "import plotly.express as px\n",
    "import pickle\n",
    "import cvxpy as cp\n",
    "import matplotlib.pyplot as plt\n",
    "import scipy.cluster.hierarchy as sch\n",
    "from tqdm import tqdm\n",
    "from HRP_class import *\n",
    "import os\n",
    "from sklearn.preprocessing import StandardScaler"
   ]
  },
  {
   "cell_type": "markdown",
   "metadata": {},
   "source": [
    "#### Load data"
   ]
  },
  {
   "cell_type": "code",
   "execution_count": 2,
   "metadata": {},
   "outputs": [
    {
     "name": "stderr",
     "output_type": "stream",
     "text": [
      "100%|██████████| 3830/3830 [02:16<00:00, 28.14it/s]\n"
     ]
    }
   ],
   "source": [
    "# Load train data\n",
    "train = pl.read_csv('train.csv')\n",
    "\n",
    "# Check available stocks for the different time_ids\n",
    "stocks_per_time_id = dict()\n",
    "unique_time_ids = train.select(\"time_id\").unique().to_series().to_list()\n",
    "\n",
    "for id in unique_time_ids:\n",
    "    stocks_per_time_id[id] = train.with_columns(pl.col(\"time_id\") == id).select(\"stock_id\").unique().to_series().to_list()\n",
    "\n",
    "# Pre-load all trades data for each stock into a dictionary\n",
    "all_trade_data = {}\n",
    "\n",
    "for stock in stocks_per_time_id[5]:  # all time_ids have the same stocks\n",
    "    file = os.path.join(f\"trade_train.parquet/stock_id={stock}\", os.listdir(f\"trade_train.parquet/stock_id={stock}\")[0])\n",
    "    all_trade_data[stock] = pl.read_parquet(file)\n",
    "\n",
    "# Initialize a dictionnary that will contain for each time_id a dictionnary of trading books of the different stocks.\n",
    "trading_books_per_id = {int(id): {} for id in unique_time_ids}\n",
    "\n",
    "# Loop to fill the \"trading_books_per_id\" dictionnary\n",
    "for id in tqdm(unique_time_ids):\n",
    "    int_id = int(id)\n",
    "    for stock in stocks_per_time_id[id]:\n",
    "        # Use the pre-loaded data for the current stock\n",
    "        trade_train_data = all_trade_data[stock]\n",
    "        # Filter the data for the current time_id\n",
    "        trading_book = trade_train_data.filter(pl.col('time_id') == int_id).clone()\n",
    "        if trading_book.height > 3:\n",
    "            # Store the filtered data in the result dictionary\n",
    "            trading_books_per_id[int_id][stock] = trading_book"
   ]
  },
  {
   "cell_type": "code",
   "execution_count": 3,
   "metadata": {},
   "outputs": [],
   "source": [
    "with open('unique_time_ids.pkl', 'wb') as file:\n",
    "    pickle.dump(unique_time_ids, file)"
   ]
  },
  {
   "cell_type": "markdown",
   "metadata": {},
   "source": [
    "### Choose 10 Stocks to invest in"
   ]
  },
  {
   "cell_type": "markdown",
   "metadata": {},
   "source": [
    "#### **Step-by-Step Process to select the 10 Stocks to invest in:**\n",
    "\n",
    "**1.Calculate Key Metrics for Each Stock**\n",
    "\n",
    "For each stock, within each time_id, we compute the following metrics:\n",
    "\n",
    "* **Average Return:** Measure of performance.\n",
    "* **Volatility of Returns:** Measure of risk.\n",
    "* **Average Trade Size:** Measure of liquidity.\n",
    "* **Order Count:** Measure of market participation.\n",
    "\n",
    "**2. Normalize the Metrics**\n",
    "\n",
    "We normalize these metrics to bring them onto a common scale using min-max normalization.\n",
    "\n",
    "**3. Compute Composite Score**\n",
    "\n",
    "We combine the normalized metrics into a single composite score:\n",
    "\n",
    "$$ Score = w_1* Average\\_Return + w_2* Volatility\\_of\\_Return + w_3*Total\\_Size + w_4*Order\\_Count$$\n",
    "\n",
    "**4. Aggregate Scores Across Time Periods**\n",
    "\n",
    "We compute an overall score for each stock by averaging its scores across all time_ids.\n",
    "\n",
    "**5. Rank Stocks and Select Top 10**\n",
    "\n",
    "We rank the stocks based on their overall scores and select the top 10."
   ]
  },
  {
   "cell_type": "code",
   "execution_count": 4,
   "metadata": {},
   "outputs": [
    {
     "name": "stderr",
     "output_type": "stream",
     "text": [
      "100%|██████████| 3830/3830 [02:13<00:00, 28.70it/s]"
     ]
    },
    {
     "name": "stdout",
     "output_type": "stream",
     "text": [
      "Top 10 stocks to invest in are: [43, 69, 124, 29, 31, 50, 111, 32, 41, 47]\n"
     ]
    },
    {
     "name": "stderr",
     "output_type": "stream",
     "text": [
      "\n"
     ]
    }
   ],
   "source": [
    "# Weights for each metric\n",
    "weights = {\n",
    "    'average_return': 0.4,\n",
    "    'volatility': 0.2,\n",
    "    'average_size': 0.2,\n",
    "    'order_count': 0.2\n",
    "}\n",
    "\n",
    "def compute_metrics(df):\n",
    "    df = df.with_columns((pl.col('price').pct_change().fill_nan(0)).alias('Return'))\n",
    "    \n",
    "    average_return = df['Return'].mean()\n",
    "    volatility = df['Return'].std()\n",
    "    average_size = df['size'].mean()\n",
    "    order_count = df['order_count'].sum()\n",
    "    \n",
    "    return average_return, volatility, average_size, order_count\n",
    "\n",
    "def normalize(series):\n",
    "    min_val = series.min()\n",
    "    max_val = series.max()\n",
    "    return (series - min_val) / (max_val - min_val)\n",
    "\n",
    "# Dictionary to hold aggregate scores\n",
    "aggregate_scores = {stock: [] for stock in all_trade_data.keys()}\n",
    "\n",
    "for time_id, stocks in tqdm(trading_books_per_id.items()):\n",
    "    metrics = {metric: [] for metric in weights.keys()}\n",
    "    \n",
    "    for stock_id, df in stocks.items():\n",
    "        avg_return, vol, avg_size, order_count = compute_metrics(df)\n",
    "        \n",
    "        metrics['average_return'].append(avg_return)\n",
    "        metrics['volatility'].append(vol)\n",
    "        metrics['average_size'].append(avg_size)\n",
    "        metrics['order_count'].append(order_count)\n",
    "    \n",
    "    for metric in metrics.keys():\n",
    "        metrics[metric] = normalize(pl.Series(metrics[metric]))\n",
    "    \n",
    "    for i, stock_id in enumerate(stocks.keys()):\n",
    "        score = (\n",
    "            weights['average_return'] * metrics['average_return'][i] +\n",
    "            weights['volatility'] * (1 - metrics['volatility'][i]) + # Minimize volatility\n",
    "            weights['average_size'] * metrics['average_size'][i] +\n",
    "            weights['order_count'] * metrics['order_count'][i]\n",
    "        )\n",
    "        aggregate_scores[stock_id].append(score)\n",
    "\n",
    "# Compute overall scores\n",
    "overall_scores = {stock: np.mean(scores) for stock, scores in aggregate_scores.items()}\n",
    "\n",
    "# Select the top 10 stocks\n",
    "top_10_stocks = sorted(overall_scores, key=overall_scores.get, reverse=True)[:10]\n",
    "\n",
    "print(\"Top 10 stocks to invest in are:\", top_10_stocks)"
   ]
  },
  {
   "cell_type": "markdown",
   "metadata": {},
   "source": [
    "### **Optimal weights computation**"
   ]
  },
  {
   "cell_type": "markdown",
   "metadata": {},
   "source": [
    "#### Prepare data"
   ]
  },
  {
   "cell_type": "code",
   "execution_count": 5,
   "metadata": {},
   "outputs": [],
   "source": [
    "# Pre-load all order book data for each stock into a dictionary\n",
    "all_book_data = {}\n",
    "\n",
    "for stock in stocks_per_time_id[5]:  # all time_ids have the same stocks\n",
    "    file = os.path.join(f\"book_train.parquet/stock_id={stock}\", os.listdir(f\"book_train.parquet/stock_id={stock}\")[0])\n",
    "    all_book_data[stock] = pl.read_parquet(file)"
   ]
  },
  {
   "cell_type": "markdown",
   "metadata": {},
   "source": [
    "#### Fill missing seconds in the order books"
   ]
  },
  {
   "cell_type": "code",
   "execution_count": 6,
   "metadata": {},
   "outputs": [],
   "source": [
    "# Function to add the seconds that are not available in the order book\n",
    "def fill_gaps(book_example):\n",
    "    # Create a DataFrame with all seconds from 0 to 600\n",
    "    all_seconds = pl.DataFrame({'seconds_in_bucket': range(601)}).with_columns(pl.col('seconds_in_bucket').cast(pl.Int16))\n",
    "    # Perform a left join with the book_example DataFrame\n",
    "    merged_df = all_seconds.join(book_example, on='seconds_in_bucket', how='left')\n",
    "    # Forward fill the missing values\n",
    "    filled_df = merged_df.fill_null(strategy=\"forward\")\n",
    "    return filled_df"
   ]
  },
  {
   "cell_type": "markdown",
   "metadata": {},
   "source": [
    "#### Calculate Order book Statistics"
   ]
  },
  {
   "cell_type": "code",
   "execution_count": 7,
   "metadata": {},
   "outputs": [],
   "source": [
    "# Compute the weighted average price (WAP)\n",
    "def wap(order_book):\n",
    "    order_book = order_book.with_columns([\n",
    "        ((pl.col('bid_price1') * pl.col('ask_size1') + pl.col('ask_price1') * pl.col('bid_size1')) / \n",
    "         (pl.col('bid_size1') + pl.col('ask_size1'))).alias('wap')\n",
    "    ])\n",
    "    return order_book\n",
    "\n",
    "# Calculate the log-returns\n",
    "def log_return(list_stock_prices):\n",
    "    return np.log(list_stock_prices).diff()\n",
    "\n",
    "# Calculate the Bid Ask Spread\n",
    "def bid_ask_spread(order_book):\n",
    "    order_book = order_book.with_columns([\n",
    "        (pl.col('ask_price1')/pl.col('bid_price1') - 1).alias('spread')\n",
    "    ])\n",
    "    return order_book\n",
    "\n",
    "# Calculate the Mid Price\n",
    "def mid_price(order_book):\n",
    "    order_book = order_book.with_columns([\n",
    "        ((pl.col('bid_price1') + pl.col('ask_price1')) / 2).alias('mid_price')\n",
    "    ])\n",
    "    return order_book\n",
    "\n",
    "# Calculate the Order Imbalance\n",
    "def order_imbalance(order_book):\n",
    "    order_book = order_book.with_columns([\n",
    "        ((pl.col('bid_size1') - pl.col('ask_size1')) / \n",
    "         (pl.col('bid_size1') + pl.col('ask_size1'))).alias('order_imbalance')\n",
    "    ])\n",
    "    return order_book\n",
    "\n",
    "# Calculate the Market Depth\n",
    "def market_depth(order_book):\n",
    "    order_book = order_book.with_columns([\n",
    "        (pl.col('bid_size1') + pl.col('ask_size1')).alias('depth')\n",
    "    ])\n",
    "    return order_book\n",
    "\n",
    "# Calculate the Bid Ask Slope\n",
    "def bid_ask_slope(order_book):\n",
    "    order_book = order_book.with_columns([\n",
    "        ((pl.col('ask_price2') - pl.col('ask_price1')) / pl.col('ask_size1') - \n",
    "         (pl.col('bid_price1') - pl.col('bid_price2')) / pl.col('bid_size1')).alias('bid_ask_slope')\n",
    "    ])\n",
    "    return order_book"
   ]
  },
  {
   "cell_type": "markdown",
   "metadata": {},
   "source": [
    "#### Calculate the Realized Volatilities"
   ]
  },
  {
   "cell_type": "code",
   "execution_count": 8,
   "metadata": {},
   "outputs": [],
   "source": [
    "def realized_volatility(series_log_return):\n",
    "    return np.sqrt(np.sum(series_log_return**2))"
   ]
  },
  {
   "cell_type": "code",
   "execution_count": 9,
   "metadata": {},
   "outputs": [
    {
     "name": "stderr",
     "output_type": "stream",
     "text": [
      "100%|██████████| 3830/3830 [03:04<00:00, 20.80it/s]\n"
     ]
    }
   ],
   "source": [
    "# Fill the dictionnary processed_books that contains for each time_id a dictionnary \n",
    "# of order books for the different stocks.\n",
    "\n",
    "processed_books = {int(id): {} for id in unique_time_ids}\n",
    "returns_per_id_per_stock = {int(id): {} for id in unique_time_ids}\n",
    "\n",
    "for id in tqdm(unique_time_ids):\n",
    "    for stock in top_10_stocks:\n",
    "        order_book = all_book_data[stock].filter(pl.col('time_id') == id).clone()\n",
    "        # Fill gaps\n",
    "        order_book = fill_gaps(order_book)\n",
    "\n",
    "        # Add the Weighted average price column\n",
    "        order_book = wap(order_book)\n",
    "\n",
    "        # Add the log-returns\n",
    "        order_book = order_book.with_columns([\n",
    "            log_return(order_book['wap']).alias('log_return')\n",
    "        ])\n",
    "\n",
    "        # Drop rows with NaN values in the 'log_return' column\n",
    "        order_book = order_book.drop_nulls(subset=['log_return'])\n",
    "\n",
    "        # Add the Bid Ask Spread\n",
    "        order_book = bid_ask_spread(order_book)\n",
    "        \n",
    "        # Add the Mid Price\n",
    "        order_book = mid_price(order_book)\n",
    "\n",
    "        # Add the Order Imbalance\n",
    "        order_book = order_imbalance(order_book)\n",
    "    \n",
    "        # Add the Market Depth\n",
    "        order_book = market_depth(order_book)\n",
    "\n",
    "        # Add the Bid Ask Slope\n",
    "        order_book = bid_ask_slope(order_book)\n",
    "        \n",
    "        processed_books[int(id)][stock] = order_book\n",
    "        returns_per_id_per_stock[int(id)][stock] = order_book['log_return']"
   ]
  },
  {
   "cell_type": "code",
   "execution_count": 33,
   "metadata": {},
   "outputs": [
    {
     "data": {
      "text/html": [
       "<div><style>\n",
       ".dataframe > thead > tr,\n",
       ".dataframe > tbody > tr {\n",
       "  text-align: right;\n",
       "  white-space: pre-wrap;\n",
       "}\n",
       "</style>\n",
       "<small>shape: (600, 18)</small><table border=\"1\" class=\"dataframe\"><thead><tr><th>seconds_in_bucket</th><th>time_id</th><th>bid_price1</th><th>ask_price1</th><th>bid_price2</th><th>ask_price2</th><th>bid_size1</th><th>ask_size1</th><th>bid_size2</th><th>ask_size2</th><th>book_train.parquet/stock_id</th><th>wap</th><th>log_return</th><th>spread</th><th>mid_price</th><th>order_imbalance</th><th>depth</th><th>bid_ask_slope</th></tr><tr><td>i16</td><td>i16</td><td>f32</td><td>f32</td><td>f32</td><td>f32</td><td>i32</td><td>i32</td><td>i32</td><td>i32</td><td>i64</td><td>f64</td><td>f64</td><td>f32</td><td>f32</td><td>f64</td><td>i32</td><td>f64</td></tr></thead><tbody><tr><td>1</td><td>5</td><td>1.000013</td><td>1.000039</td><td>0.999987</td><td>1.000065</td><td>355</td><td>200</td><td>1555</td><td>1100</td><td>43</td><td>1.00003</td><td>0.00011</td><td>0.000026</td><td>1.000026</td><td>0.279279</td><td>555</td><td>5.6658e-8</td></tr><tr><td>2</td><td>5</td><td>0.999987</td><td>1.000039</td><td>0.999961</td><td>1.000065</td><td>855</td><td>355</td><td>355</td><td>655</td><td>43</td><td>1.000024</td><td>-0.000006</td><td>0.000052</td><td>1.000013</td><td>0.413223</td><td>1210</td><td>4.2936e-8</td></tr><tr><td>3</td><td>5</td><td>1.000118</td><td>1.000144</td><td>1.000092</td><td>1.00017</td><td>355</td><td>400</td><td>855</td><td>55</td><td>43</td><td>1.00013</td><td>0.000106</td><td>0.000026</td><td>1.000131</td><td>-0.059603</td><td>755</td><td>-8.3111e-9</td></tr><tr><td>4</td><td>5</td><td>1.000196</td><td>1.000223</td><td>1.00017</td><td>1.000249</td><td>555</td><td>300</td><td>300</td><td>655</td><td>43</td><td>1.000213</td><td>0.000083</td><td>0.000026</td><td>1.00021</td><td>0.298246</td><td>855</td><td>4.0166e-8</td></tr><tr><td>5</td><td>5</td><td>1.000432</td><td>1.000458</td><td>1.000406</td><td>1.000485</td><td>400</td><td>400</td><td>880</td><td>1300</td><td>43</td><td>1.000445</td><td>0.000232</td><td>0.000026</td><td>1.000445</td><td>0.0</td><td>800</td><td>0.0</td></tr><tr><td>&hellip;</td><td>&hellip;</td><td>&hellip;</td><td>&hellip;</td><td>&hellip;</td><td>&hellip;</td><td>&hellip;</td><td>&hellip;</td><td>&hellip;</td><td>&hellip;</td><td>&hellip;</td><td>&hellip;</td><td>&hellip;</td><td>&hellip;</td><td>&hellip;</td><td>&hellip;</td><td>&hellip;</td><td>&hellip;</td></tr><tr><td>596</td><td>5</td><td>1.001375</td><td>1.001401</td><td>1.001349</td><td>1.001427</td><td>300</td><td>242</td><td>500</td><td>342</td><td>43</td><td>1.001389</td><td>0.000123</td><td>0.000026</td><td>1.001388</td><td>0.107011</td><td>542</td><td>2.1349e-8</td></tr><tr><td>597</td><td>5</td><td>1.001375</td><td>1.001401</td><td>1.001349</td><td>1.001427</td><td>542</td><td>142</td><td>1100</td><td>542</td><td>43</td><td>1.001396</td><td>0.000006</td><td>0.000026</td><td>1.001388</td><td>0.584795</td><td>684</td><td>1.3652e-7</td></tr><tr><td>598</td><td>5</td><td>1.00148</td><td>1.001506</td><td>1.001454</td><td>1.001532</td><td>100</td><td>142</td><td>842</td><td>442</td><td>43</td><td>1.001491</td><td>0.000095</td><td>0.000026</td><td>1.001493</td><td>-0.173554</td><td>242</td><td>-7.6378e-8</td></tr><tr><td>599</td><td>5</td><td>1.001401</td><td>1.001427</td><td>1.001375</td><td>1.001454</td><td>500</td><td>142</td><td>500</td><td>942</td><td>43</td><td>1.001422</td><td>-0.000069</td><td>0.000026</td><td>1.001414</td><td>0.557632</td><td>642</td><td>1.3224e-7</td></tr><tr><td>600</td><td>5</td><td>1.001401</td><td>1.001427</td><td>1.001375</td><td>1.001454</td><td>500</td><td>142</td><td>500</td><td>942</td><td>43</td><td>1.001422</td><td>0.0</td><td>0.000026</td><td>1.001414</td><td>0.557632</td><td>642</td><td>1.3224e-7</td></tr></tbody></table></div>"
      ],
      "text/plain": [
       "shape: (600, 18)\n",
       "┌────────────┬─────────┬────────────┬────────────┬───┬───────────┬────────────┬───────┬────────────┐\n",
       "│ seconds_in ┆ time_id ┆ bid_price1 ┆ ask_price1 ┆ … ┆ mid_price ┆ order_imba ┆ depth ┆ bid_ask_sl │\n",
       "│ _bucket    ┆ ---     ┆ ---        ┆ ---        ┆   ┆ ---       ┆ lance      ┆ ---   ┆ ope        │\n",
       "│ ---        ┆ i16     ┆ f32        ┆ f32        ┆   ┆ f32       ┆ ---        ┆ i32   ┆ ---        │\n",
       "│ i16        ┆         ┆            ┆            ┆   ┆           ┆ f64        ┆       ┆ f64        │\n",
       "╞════════════╪═════════╪════════════╪════════════╪═══╪═══════════╪════════════╪═══════╪════════════╡\n",
       "│ 1          ┆ 5       ┆ 1.000013   ┆ 1.000039   ┆ … ┆ 1.000026  ┆ 0.279279   ┆ 555   ┆ 5.6658e-8  │\n",
       "│ 2          ┆ 5       ┆ 0.999987   ┆ 1.000039   ┆ … ┆ 1.000013  ┆ 0.413223   ┆ 1210  ┆ 4.2936e-8  │\n",
       "│ 3          ┆ 5       ┆ 1.000118   ┆ 1.000144   ┆ … ┆ 1.000131  ┆ -0.059603  ┆ 755   ┆ -8.3111e-9 │\n",
       "│ 4          ┆ 5       ┆ 1.000196   ┆ 1.000223   ┆ … ┆ 1.00021   ┆ 0.298246   ┆ 855   ┆ 4.0166e-8  │\n",
       "│ 5          ┆ 5       ┆ 1.000432   ┆ 1.000458   ┆ … ┆ 1.000445  ┆ 0.0        ┆ 800   ┆ 0.0        │\n",
       "│ …          ┆ …       ┆ …          ┆ …          ┆ … ┆ …         ┆ …          ┆ …     ┆ …          │\n",
       "│ 596        ┆ 5       ┆ 1.001375   ┆ 1.001401   ┆ … ┆ 1.001388  ┆ 0.107011   ┆ 542   ┆ 2.1349e-8  │\n",
       "│ 597        ┆ 5       ┆ 1.001375   ┆ 1.001401   ┆ … ┆ 1.001388  ┆ 0.584795   ┆ 684   ┆ 1.3652e-7  │\n",
       "│ 598        ┆ 5       ┆ 1.00148    ┆ 1.001506   ┆ … ┆ 1.001493  ┆ -0.173554  ┆ 242   ┆ -7.6378e-8 │\n",
       "│ 599        ┆ 5       ┆ 1.001401   ┆ 1.001427   ┆ … ┆ 1.001414  ┆ 0.557632   ┆ 642   ┆ 1.3224e-7  │\n",
       "│ 600        ┆ 5       ┆ 1.001401   ┆ 1.001427   ┆ … ┆ 1.001414  ┆ 0.557632   ┆ 642   ┆ 1.3224e-7  │\n",
       "└────────────┴─────────┴────────────┴────────────┴───┴───────────┴────────────┴───────┴────────────┘"
      ]
     },
     "execution_count": 33,
     "metadata": {},
     "output_type": "execute_result"
    }
   ],
   "source": [
    "processed_books[5][43]"
   ]
  },
  {
   "cell_type": "markdown",
   "metadata": {},
   "source": [
    "#### Convert the results into Pandas DataFrames to save them for future use"
   ]
  },
  {
   "cell_type": "code",
   "execution_count": 34,
   "metadata": {},
   "outputs": [
    {
     "name": "stderr",
     "output_type": "stream",
     "text": [
      "100%|██████████| 3830/3830 [01:54<00:00, 33.37it/s]\n"
     ]
    }
   ],
   "source": [
    "processed_books_copy = processed_books.copy()\n",
    "returns_per_id_per_stock_copy = returns_per_id_per_stock.copy()\n",
    "\n",
    "for id in tqdm(processed_books_copy.keys()):\n",
    "    for stock, order_book in processed_books_copy[id].items():\n",
    "        processed_books_copy[id][stock] = order_book.to_pandas()\n",
    "        returns_per_id_per_stock_copy[id][stock] = order_book.to_pandas()[\"log_return\"]"
   ]
  },
  {
   "cell_type": "markdown",
   "metadata": {},
   "source": [
    "#### Save the prepared books as pkl"
   ]
  },
  {
   "cell_type": "code",
   "execution_count": 4,
   "metadata": {},
   "outputs": [],
   "source": [
    "# Serialize (I already did it)\n",
    "# with open('processed_books.pkl', 'wb') as file:\n",
    "#     pickle.dump((processed_books_copy, returns_per_id_per_stock_copy), file)\n",
    "\n",
    "# Deserialize (to load the objects)\n",
    "with open('processed_books.pkl', 'rb') as file:\n",
    "    (processed_books, returns_per_id_per_stock) = pickle.load(file)"
   ]
  },
  {
   "cell_type": "code",
   "execution_count": 12,
   "metadata": {},
   "outputs": [],
   "source": [
    "import seaborn as sns"
   ]
  },
  {
   "cell_type": "code",
   "execution_count": 16,
   "metadata": {},
   "outputs": [
    {
     "data": {
      "text/plain": [
       "<Axes: >"
      ]
     },
     "execution_count": 16,
     "metadata": {},
     "output_type": "execute_result"
    },
    {
     "data": {
      "image/png": "[encoded data removed]",
      "text/plain": [
       "<Figure size 640x480 with 2 Axes>"
      ]
     },
     "metadata": {},
     "output_type": "display_data"
    }
   ],
   "source": [
    "scaler = StandardScaler()\n",
    "df = processed_books[11][43].iloc[:, -7:]\n",
    "scaled_data = scaler.fit_transform(df)\n",
    "scaled_df = pd.DataFrame(scaled_data, columns=df.columns)\n",
    "sns.heatmap(scaled_df.corr(), annot=False, cmap='coolwarm', center=0)"
   ]
  },
  {
   "cell_type": "markdown",
   "metadata": {},
   "source": [
    "#### **Generate the correlation matrix and expected returns for each id**"
   ]
  },
  {
   "cell_type": "markdown",
   "metadata": {},
   "source": [
    "#### Monte Carlo to generate the Expected returns"
   ]
  },
  {
   "cell_type": "code",
   "execution_count": 48,
   "metadata": {},
   "outputs": [],
   "source": [
    "def monte_carlo_expected_returns(std, number_iterations):\n",
    "    result_list = []\n",
    "    for i in range(number_iterations):\n",
    "        result_list.append(np.random.normal(0, std*np.sqrt(600), size=1))\n",
    "\n",
    "    return np.mean(result_list)"
   ]
  },
  {
   "cell_type": "markdown",
   "metadata": {},
   "source": [
    "#### Calculate the correlation and covariance matrices "
   ]
  },
  {
   "cell_type": "code",
   "execution_count": 83,
   "metadata": {},
   "outputs": [
    {
     "name": "stderr",
     "output_type": "stream",
     "text": [
      "100%|██████████| 3830/3830 [21:25<00:00,  2.98it/s] \n"
     ]
    }
   ],
   "source": [
    "number_iterations = 1000\n",
    "correlation_std_returns_per_id = {int(id): {} for id in unique_time_ids}\n",
    "covariance_returns_per_id = {int(id): {} for id in unique_time_ids}\n",
    "\n",
    "for id in tqdm(unique_time_ids):\n",
    "    # Convert returns_per_id_per_stock[id] to a Polars DataFrame\n",
    "    returns_df = pd.DataFrame(returns_per_id_per_stock[int(id)])\n",
    "    # Calculate the correlation matrix\n",
    "    correlation_matrix = returns_df.corr()\n",
    "    correlation_std_returns_per_id[int(id)][\"correlation\"] = correlation_matrix\n",
    "\n",
    "    stds = []\n",
    "    for stock_id in top_10_stocks:\n",
    "        # Filter the train DataFrame to get the target value\n",
    "        target_RV = train.filter(\n",
    "            (pl.col(\"stock_id\") == stock_id) & (pl.col(\"time_id\") == int(id))\n",
    "        ).select(\"target\").to_series()[0]\n",
    "        stds.append(target_RV / np.sqrt(600))\n",
    "    \n",
    "    correlation_std_returns_per_id[int(id)][\"std\"] = stds\n",
    "    D = np.diag(stds)\n",
    "    cv_matrix = D @ correlation_matrix @ D\n",
    "    covariance_returns_per_id[int(id)][\"covariance\"] = cv_matrix\n",
    "\n",
    "    expected_returns = []\n",
    "    for std in stds:\n",
    "        expected_returns.append(monte_carlo_expected_returns(std, number_iterations))\n",
    "    \n",
    "    correlation_std_returns_per_id[int(id)][\"expected_returns\"] = expected_returns\n",
    "    covariance_returns_per_id[int(id)][\"expected_returns\"] = expected_returns"
   ]
  },
  {
   "cell_type": "markdown",
   "metadata": {},
   "source": [
    "#### Save the results for covariance matrix as pkl"
   ]
  },
  {
   "cell_type": "code",
   "execution_count": 17,
   "metadata": {},
   "outputs": [],
   "source": [
    "# Serialize (I already did it)\n",
    "# with open('covariance_matrix.pkl', 'wb') as file:\n",
    "#     pickle.dump((correlation_std_returns_per_id, covariance_returns_per_id), file)\n",
    "\n",
    "# Deserialize (to load the objects)\n",
    "with open('covariance_matrix.pkl', 'rb') as file:\n",
    "    (correlation_std_returns_per_id, covariance_returns_per_id) = pickle.load(file)"
   ]
  },
  {
   "cell_type": "markdown",
   "metadata": {},
   "source": [
    "### **Compute the optimal weights**"
   ]
  },
  {
   "cell_type": "markdown",
   "metadata": {},
   "source": [
    "#### First Method using Mean-Variance Optimization (Markowitz)"
   ]
  },
  {
   "cell_type": "code",
   "execution_count": 161,
   "metadata": {},
   "outputs": [],
   "source": [
    "def compute_optimal_portfolio(gamma, exp_returns, cv_matrix, l_bound = 0, u_bound = 1, tolerance=1e-5):\n",
    "    # Number of assets\n",
    "    n = len(exp_returns)\n",
    "\n",
    "    # Define the optimization variable\n",
    "    x = cp.Variable(n)\n",
    "\n",
    "    # Define the objective function\n",
    "    gamma_param = cp.Parameter(nonneg=False)\n",
    "    objective = cp.Minimize((1/2) * cp.quad_form(x, cv_matrix) - gamma * exp_returns.T @ x)\n",
    "\n",
    "    # Define the constraints (the last constraint )\n",
    "    constraints = [cp.sum(x) == 1, x >= l_bound, x <= u_bound, (x @ cv_matrix @ x) <= 1/(252*24*3600)]\n",
    "\n",
    "    # Set up the problem\n",
    "    problem = cp.Problem(objective, constraints)\n",
    "\n",
    "    # Solve the problem for the specified value of gamma\n",
    "    gamma_param.value = gamma\n",
    "    problem.solve()\n",
    "\n",
    "    # Get the optimal weights, setting very small values to zero\n",
    "    optimal_weights = np.array(x.value).flatten()  # Flatten in case x.value is a 2D array\n",
    "    optimal_weights[optimal_weights < tolerance] = 0\n",
    "    optimal_weights = np.round(optimal_weights, 2)\n",
    "    \n",
    "    if np.sum(optimal_weights) != 1:\n",
    "        optimal_weights /= np.sum(optimal_weights)\n",
    "\n",
    "    return optimal_weights"
   ]
  },
  {
   "cell_type": "markdown",
   "metadata": {},
   "source": [
    "#### Result Examples"
   ]
  },
  {
   "cell_type": "code",
   "execution_count": 166,
   "metadata": {},
   "outputs": [
    {
     "name": "stderr",
     "output_type": "stream",
     "text": [
      "  0%|          | 0/3830 [00:00<?, ?it/s]"
     ]
    },
    {
     "name": "stderr",
     "output_type": "stream",
     "text": [
      "100%|██████████| 3830/3830 [00:43<00:00, 87.92it/s]\n"
     ]
    }
   ],
   "source": [
    "gamma_value = 1 # It's given in the asset management course\n",
    "optimal_weights = dict()\n",
    "for id in tqdm(unique_time_ids):\n",
    "    cv_matrix, e_returns = covariance_returns_per_id[id].items()\n",
    "    optimal_weights[id] = compute_optimal_portfolio(gamma_value, np.array(e_returns[1]), cv_matrix[1], 0, 1)"
   ]
  },
  {
   "cell_type": "markdown",
   "metadata": {},
   "source": [
    "#### Save the results for the optimal weights as pkl"
   ]
  },
  {
   "cell_type": "code",
   "execution_count": 15,
   "metadata": {},
   "outputs": [],
   "source": [
    "# Serialize (I already did it)\n",
    "# with open('optimal_weights_markowitz.pkl', 'wb') as file:\n",
    "#     pickle.dump(optimal_weights, file)\n",
    "\n",
    "# Deserialize (to load the objects)\n",
    "with open('optimal_weights_markowitz.pkl', 'rb') as file:\n",
    "    optimal_weights = pickle.load(file)"
   ]
  },
  {
   "cell_type": "markdown",
   "metadata": {},
   "source": [
    "#### Second Method: using the HRP (for a better diversification)"
   ]
  },
  {
   "cell_type": "code",
   "execution_count": 18,
   "metadata": {},
   "outputs": [],
   "source": [
    "cov_return_data = correlation_std_returns_per_id, covariance_returns_per_id"
   ]
  },
  {
   "cell_type": "code",
   "execution_count": 19,
   "metadata": {},
   "outputs": [
    {
     "name": "stderr",
     "output_type": "stream",
     "text": [
      "100%|██████████| 3830/3830 [04:21<00:00, 14.65it/s]\n"
     ]
    }
   ],
   "source": [
    "hrp_allocations = {}\n",
    "\n",
    "for time_id in tqdm(cov_return_data[0].keys()):\n",
    "    cov_matrix = cov_return_data[1][time_id]['covariance']\n",
    "    corr_matrix = cov_return_data[0][time_id]['correlation']\n",
    "    \n",
    "    hrp = HierarchicalRiskParity(cov_matrix)\n",
    "    \n",
    "    # Generate the distance matrix and linkage matrix\n",
    "    dist_matrix = hrp.correlDist(corr_matrix)\n",
    "    condensed_dist_matrix = ssd.squareform(dist_matrix)  # Convert to condensed form\n",
    "    link = sch.linkage(condensed_dist_matrix, 'single')\n",
    "\n",
    "    # Compute HRP allocation\n",
    "    hrp_allocation = hrp.getRecBipart(link)\n",
    "    \n",
    "    # Store the HRP allocation\n",
    "    hrp_allocations[time_id] = hrp_allocation"
   ]
  },
  {
   "cell_type": "code",
   "execution_count": 20,
   "metadata": {},
   "outputs": [],
   "source": [
    "# Serialize (I already did it)\n",
    "# with open('optimal_weights_hrp.pkl', 'wb') as file:\n",
    "#     pickle.dump(hrp_allocations, file)\n",
    "\n",
    "# Deserialize (to load the objects)\n",
    "with open('optimal_weights_hrp.pkl', 'rb') as file:\n",
    "    hrp_allocations = pickle.load(file)"
   ]
  },
  {
   "cell_type": "code",
   "execution_count": 21,
   "metadata": {},
   "outputs": [
    {
     "data": {
      "image/png": "[encoded data removed]",
      "text/plain": [
       "<Figure size 640x480 with 2 Axes>"
      ]
     },
     "metadata": {},
     "output_type": "display_data"
    },
    {
     "data": {
      "image/png": "[encoded data removed]",
      "text/plain": [
       "<Figure size 1000x700 with 1 Axes>"
      ]
     },
     "metadata": {},
     "output_type": "display_data"
    }
   ],
   "source": [
    "cov_matrix = cov_return_data[1][4132]['covariance']\n",
    "corr_matrix = cov_return_data[0][4132]['correlation']\n",
    "hrp = HierarchicalRiskParity(cov_matrix)\n",
    "hrp.plotCorrMatrix(corr_matrix,labels= corr_matrix.columns)\n",
    "\n",
    "# Define the distance matrix, and the cluster link\n",
    "dist_matrix = hrp.correlDist(corr_matrix)\n",
    "condensed_dist_matrix = ssd.squareform(dist_matrix)  # Convert to condensed form\n",
    "link = sch.linkage(condensed_dist_matrix, 'single')\n",
    "asset_labels = corr_matrix.columns.tolist()\n",
    "\n",
    "plt.figure(figsize=(10, 7))\n",
    "sch.dendrogram(link,\n",
    "               labels = asset_labels,\n",
    "           color_threshold = 0.695)  # Adjust the threshold to your needs\n",
    "plt.show()"
   ]
  },
  {
   "cell_type": "code",
   "execution_count": 22,
   "metadata": {},
   "outputs": [],
   "source": [
    "# Define the distance matrix, and the cluster link\n",
    "dist_matrix = hrp.correlDist(corr_matrix)\n",
    "condensed_dist_matrix = ssd.squareform(dist_matrix)  # Convert to condensed form\n",
    "link = sch.linkage(condensed_dist_matrix, 'single')"
   ]
  },
  {
   "cell_type": "markdown",
   "metadata": {},
   "source": [
    "Draw a dendogram to see the link between the assets (for the simple case, we need to set a thresh hold because this quite hard to detect a specific link), but normally when we have 10,15,20 we no need it (I will check later)\n"
   ]
  },
  {
   "cell_type": "markdown",
   "metadata": {},
   "source": [
    "For now we only use this with only 5 assets with well structured covariance matrix (to derive the Markowitz), so we do not see so much different but when we increase to 10,15,20 we wil see it more clearly"
   ]
  },
  {
   "cell_type": "code",
   "execution_count": 23,
   "metadata": {},
   "outputs": [
    {
     "data": {
      "image/png": "[encoded data removed]",
      "text/plain": [
       "<Figure size 640x480 with 2 Axes>"
      ]
     },
     "metadata": {},
     "output_type": "display_data"
    }
   ],
   "source": [
    "## Draw a graph for cluster covariance matrix \n",
    "sortIx=hrp.getQuasiDiag(link)\n",
    "sortIx=corr_matrix.index[sortIx].tolist() # recover labels \n",
    "corr_cluster =corr_matrix.loc[sortIx,sortIx] # reorder \n",
    "hrp.plotCorrMatrix(corr_cluster,labels =corr_cluster.columns)"
   ]
  }
 ],
 "metadata": {
  "kernelspec": {
   "display_name": "lob_env",
   "language": "python",
   "name": "python3"
  },
  "language_info": {
   "codemirror_mode": {
    "name": "ipython",
    "version": 3
   },
   "file_extension": ".py",
   "mimetype": "text/x-python",
   "name": "python",
   "nbconvert_exporter": "python",
   "pygments_lexer": "ipython3",
   "version": "3.11.9"
  }
 },
 "nbformat": 4,
 "nbformat_minor": 2
}
